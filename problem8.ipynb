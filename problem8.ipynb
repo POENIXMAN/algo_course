{
 "cells": [
  {
   "cell_type": "code",
   "execution_count": null,
   "metadata": {},
   "outputs": [
    {
     "name": "stdout",
     "output_type": "stream",
     "text": [
      "Оптимальное паросочетание:\n",
      "Строка 1 - Столбец 3\n",
      "Строка 2 - Столбец 2\n",
      "Строка 3 - Столбец 1\n",
      "Строка 4 - Столбец 4\n"
     ]
    }
   ],
   "source": [
    "import sys\n",
    "\n",
    "INF = sys.maxsize\n",
    "\n",
    "def hungarian_algorithm(cost_matrix, num_rows, num_cols):\n",
    "    row_potentials = [0] * (num_rows + 1)\n",
    "    col_potentials = [0] * (num_cols + 1)\n",
    "    column_matching = [0] * (num_cols + 1)\n",
    "    predecessor = [0] * (num_cols + 1)\n",
    "\n",
    "    for row in range(1, num_rows + 1):\n",
    "        column_matching[0] = row\n",
    "        current_column = 0\n",
    "        min_values = [INF] * (num_cols + 1)\n",
    "        visited = [False] * (num_cols + 1)\n",
    "        \n",
    "        while True:\n",
    "            visited[current_column] = True\n",
    "            current_row = column_matching[current_column]\n",
    "            min_delta = INF\n",
    "            next_column = 0\n",
    "            \n",
    "            for col in range(1, num_cols + 1):\n",
    "                if not visited[col]:\n",
    "                    current_cost = cost_matrix[current_row - 1][col - 1] - row_potentials[current_row] - col_potentials[col]\n",
    "                    if current_cost < min_values[col]:\n",
    "                        min_values[col] = current_cost\n",
    "                        predecessor[col] = current_column\n",
    "                    if min_values[col] < min_delta:\n",
    "                        min_delta = min_values[col]\n",
    "                        next_column = col\n",
    "            \n",
    "            for col in range(num_cols + 1):\n",
    "                if visited[col]:\n",
    "                    row_potentials[column_matching[col]] += min_delta\n",
    "                    col_potentials[col] -= min_delta\n",
    "                else:\n",
    "                    min_values[col] -= min_delta\n",
    "            \n",
    "            current_column = next_column\n",
    "            if column_matching[current_column] == 0:\n",
    "                break\n",
    "        \n",
    "        while current_column != 0:\n",
    "            previous_column = predecessor[current_column]\n",
    "            column_matching[current_column] = column_matching[previous_column]\n",
    "            current_column = previous_column\n",
    "\n",
    "    # Восстановление ответа\n",
    "    matching_result = [0] * (num_rows + 1)\n",
    "    for col in range(1, num_cols + 1):\n",
    "        if column_matching[col] != 0:\n",
    "            matching_result[column_matching[col]] = col\n",
    "\n",
    "    return matching_result[1:]  # Возвращаем массив, где matching_result[i] — это индекс выбранного столбца для строки i\n",
    "\n",
    "if __name__ == \"__main__\":\n",
    "    # Пример входных данных\n",
    "    cost_matrix = [\n",
    "        [82, 82, 69, 92],\n",
    "    [77, 37, 49, 92],\n",
    "    [11, 69, 5, 86],\n",
    "    [8, 9, 98, 23]\n",
    "    ]\n",
    "    num_rows = len(range(cost_matrix))\n",
    "    num_cols = len(range(cost_matrix[0]))\n",
    "\n",
    "    result = hungarian_algorithm(cost_matrix, num_rows, num_cols)\n",
    "\n",
    "    print(\"Оптимальное паросочетание:\")\n",
    "    for row in range(1, num_rows + 1):\n",
    "        print(f\"Строка {row} - Столбец {result[row - 1]}\")\n"
   ]
  }
 ],
 "metadata": {
  "kernelspec": {
   "display_name": "Python 3",
   "language": "python",
   "name": "python3"
  },
  "language_info": {
   "codemirror_mode": {
    "name": "ipython",
    "version": 3
   },
   "file_extension": ".py",
   "mimetype": "text/x-python",
   "name": "python",
   "nbconvert_exporter": "python",
   "pygments_lexer": "ipython3",
   "version": "3.10.0"
  }
 },
 "nbformat": 4,
 "nbformat_minor": 2
}
