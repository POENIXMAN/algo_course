{
 "cells": [
  {
   "cell_type": "markdown",
   "metadata": {},
   "source": [
    "\n",
    "\n",
    "This approach is efficient with a time complexity of \\(O(n \\log n)\\) due to sorting, and it’s straightforward to implement."
   ]
  },
  {
   "cell_type": "code",
   "execution_count": null,
   "metadata": {},
   "outputs": [
    {
     "name": "stdout",
     "output_type": "stream",
     "text": [
      "The day with the most guests is 2024-09-15 with 2 guests.\n"
     ]
    }
   ],
   "source": [
    "from datetime import datetime, timedelta\n",
    "from collections import defaultdict\n",
    "\n",
    "def find_max_guests_day(stays):\n",
    "    events = []\n",
    "    \n",
    "    for check_in, check_out in stays:\n",
    "        check_in_date = datetime.strptime(check_in, \"%Y-%m-%d\")\n",
    "        check_out_date = datetime.strptime(check_out, \"%Y-%m-%d\") + timedelta(days=1)  \n",
    "        events.append((check_in_date, +1)) \n",
    "        events.append((check_out_date, -1)) \n",
    "\n",
    "    \n",
    "    events.sort()\n",
    "\n",
    "        \n",
    "    current_guests = 0\n",
    "    max_guests = 0\n",
    "    max_guests_date = None\n",
    "\n",
    "    for date, event in events:\n",
    "        current_guests += event\n",
    "\n",
    "        if current_guests > max_guests:\n",
    "            max_guests = current_guests\n",
    "            max_guests_date = date\n",
    "        \n",
    "\n",
    "    return max_guests_date.strftime(\"%Y-%m-%d\"), max_guests\n",
    "\n",
    "stays = [(\"2024-09-15\", \"2024-09-15\"), (\"2024-09-14\", \"2024-09-21\")]\n",
    "result_date, result_guests = find_max_guests_day(stays)\n",
    "print(f\"The day with the most guests is {result_date} with {result_guests} guests.\")\n"
   ]
  }
 ],
 "metadata": {
  "kernelspec": {
   "display_name": "Python 3",
   "language": "python",
   "name": "python3"
  },
  "language_info": {
   "codemirror_mode": {
    "name": "ipython",
    "version": 3
   },
   "file_extension": ".py",
   "mimetype": "text/x-python",
   "name": "python",
   "nbconvert_exporter": "python",
   "pygments_lexer": "ipython3",
   "version": "3.9.0"
  }
 },
 "nbformat": 4,
 "nbformat_minor": 2
}
