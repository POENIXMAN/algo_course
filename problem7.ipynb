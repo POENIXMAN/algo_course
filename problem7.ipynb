{
 "cells": [
  {
   "cell_type": "code",
   "execution_count": null,
   "metadata": {},
   "outputs": [
    {
     "name": "stdout",
     "output_type": "stream",
     "text": [
      "A -> (B, 1), (C, 10)\n",
      "B -> (A, 1), (C, 3), (D, 5)\n",
      "C -> (B, 3), (A, 10), (D, 2)\n",
      "D -> (C, 2), (B, 5)\n",
      "Shortest distances: {'A': 0, 'B': 1, 'C': 4, 'D': 6}\n",
      "Predecessors: {'A': None, 'B': 'A', 'C': 'B', 'D': 'B'}\n"
     ]
    }
   ],
   "source": [
    "from graph import Graph\n",
    "\n",
    "class BellmanFord:\n",
    "    \n",
    "    \n",
    "    def initialize_single_source(self, graph, start):\n",
    "        \"Time complexity: O(V)\"\n",
    "        \n",
    "        distances = {vertex: float('inf') for vertex in graph.vertices}\n",
    "        predecessors = {vertex: None for vertex in graph.vertices}\n",
    "        \n",
    "        distances[start] = 0\n",
    "        return distances, predecessors\n",
    "    \n",
    "    def relax(self, u, v, weight, distances, predecessors):\n",
    "        if distances[u] + weight < distances[v]:\n",
    "            distances[v] = distances[u] + weight\n",
    "            predecessors[v] = u\n",
    "\n",
    "    def bellman_ford(self, graph, start):\n",
    "        distances, predecessors = self.initialize_single_source(graph, start)\n",
    "\n",
    "        # Time complexity: O(V.E)\n",
    "        # V-1 циклов\n",
    "        for _ in range(len(graph.vertices) - 1):\n",
    "            for u in graph.vertices:\n",
    "                for v, weight in graph.vertices[u].items():\n",
    "                    self.relax(u, v, weight, distances, predecessors)\n",
    "\n",
    "        # Time complexity: O(E)\n",
    "        for u in graph.vertices:\n",
    "            for v, weight in graph.vertices[u].items():\n",
    "                if distances[u] + weight < distances[v]:\n",
    "                    raise ValueError(\"Graph contains a negative-weight cycle\")\n",
    "\n",
    "        return distances, predecessors\n",
    "\n",
    "g = Graph()\n",
    "\n",
    "g.add_vertex('A')\n",
    "g.add_vertex('B')\n",
    "g.add_vertex('C')\n",
    "g.add_vertex('D')\n",
    "\n",
    "g.add_edge('A', 'B', 1)\n",
    "g.add_edge('B', 'C', 3)\n",
    "g.add_edge('A', 'C', 10)\n",
    "g.add_edge('C', 'D', 2)\n",
    "g.add_edge('D', 'B', 5)\n",
    "\n",
    "# это спровоцирует ValueError\n",
    "# g.add_edge('D', 'B', -5)\n",
    "\n",
    "g.list_vertices()\n",
    "\n",
    "bm = BellmanFord()\n",
    "distances, predecessors = bm.bellman_ford(g, 'A')\n",
    "print(\"Shortest distances:\", distances)\n",
    "print(\"Predecessors:\", predecessors)\n"
   ]
  },
  {
   "cell_type": "code",
   "execution_count": null,
   "metadata": {},
   "outputs": [],
   "source": []
  }
 ],
 "metadata": {
  "kernelspec": {
   "display_name": "Python 3",
   "language": "python",
   "name": "python3"
  },
  "language_info": {
   "codemirror_mode": {
    "name": "ipython",
    "version": 3
   },
   "file_extension": ".py",
   "mimetype": "text/x-python",
   "name": "python",
   "nbconvert_exporter": "python",
   "pygments_lexer": "ipython3",
   "version": "undefined.undefined.undefined"
  }
 },
 "nbformat": 4,
 "nbformat_minor": 2
}
