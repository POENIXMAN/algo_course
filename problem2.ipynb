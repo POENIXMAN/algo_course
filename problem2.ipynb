{
 "cells": [
  {
   "cell_type": "code",
   "execution_count": 2,
   "metadata": {},
   "outputs": [
    {
     "name": "stdout",
     "output_type": "stream",
     "text": [
      "[1, 10]\n",
      "[1, 10, 9, 8, 7, 6, 5, 4, 3, 2]\n",
      "[4, 1, 10, 9, 8, 7, 6, 5, 3, 2]\n"
     ]
    }
   ],
   "source": [
    "class Relevance:\n",
    "\n",
    "    def __init__(self, parameters: list[int], digit_characteristics: list[list[int]]):\n",
    "        self.a = parameters  \n",
    "        self.f = digit_characteristics  \n",
    "\n",
    "    def calculate_relevance(self, features: list[int]) -> float:\n",
    "        \"\"\"\n",
    "        Calculate the relevance score for a single object based on its features.\n",
    "        Relevance is the sum of the products of weights and corresponding features.\n",
    "        \"\"\"\n",
    "        return sum(self.a[i] * features[i] for i in range(len(self.a)))\n",
    "\n",
    "    def get_relevance_sort_indexes(self) -> list[int]:\n",
    "        \"\"\"\n",
    "        Sort the objects by their relevance score and return their original indices.\n",
    "        \"\"\"\n",
    "        relevance_scores = [\n",
    "            (self.calculate_relevance(features), idx + 1)\n",
    "            for idx, features in enumerate(self.f)\n",
    "        ]\n",
    "        \n",
    "        relevance_scores.sort(key=lambda x: x[0], reverse=True)\n",
    "        \n",
    "        return [index for _, index in relevance_scores]\n",
    "\n",
    "\n",
    "parameters = [1, 100]\n",
    "digit_characteristics = [\n",
    "    [1, 2],\n",
    "    [2, 1],\n",
    "    [3, 1],\n",
    "    [4, 1],\n",
    "    [5, 1],\n",
    "    [6, 1],\n",
    "    [7, 1],\n",
    "    [8, 1],\n",
    "    [9, 1],\n",
    "    [10, 1]\n",
    "]\n",
    "\n",
    "relevance = Relevance(parameters, digit_characteristics)\n",
    "\n",
    "\n",
    "print(relevance.get_relevance_sort_indexes()[:2]) \n",
    "\n",
    "print(relevance.get_relevance_sort_indexes()[:10])  \n",
    "\n",
    "digit_characteristics[3][0] = 1000  \n",
    "relevance = Relevance(parameters, digit_characteristics)  \n",
    "\n",
    "print(relevance.get_relevance_sort_indexes()[:10])  \n"
   ]
  }
 ],
 "metadata": {
  "kernelspec": {
   "display_name": "Python 3",
   "language": "python",
   "name": "python3"
  },
  "language_info": {
   "codemirror_mode": {
    "name": "ipython",
    "version": 3
   },
   "file_extension": ".py",
   "mimetype": "text/x-python",
   "name": "python",
   "nbconvert_exporter": "python",
   "pygments_lexer": "ipython3",
   "version": "3.10.0"
  }
 },
 "nbformat": 4,
 "nbformat_minor": 2
}
