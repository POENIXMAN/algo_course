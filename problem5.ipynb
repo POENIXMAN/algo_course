{
 "cells": [
  {
   "cell_type": "code",
   "execution_count": 4,
   "metadata": {},
   "outputs": [],
   "source": [
    "from red_black_tree import Red_Black_Tree\n",
    "\n",
    "class RBDictionary:\n",
    "    def __init__(self):\n",
    "        self.tree = Red_Black_Tree()\n",
    "\n",
    "    def insert(self, key, value):\n",
    "        \"\"\"Inserts a key-value pair into the dictionary.\"\"\"\n",
    "        self.tree.RB_insert(key, value)\n",
    "\n",
    "    def get(self, key):\n",
    "        \"\"\"Retrieves the value associated with the key.\"\"\"\n",
    "        node = self.tree.search_key(key)\n",
    "        if node:\n",
    "            return node.value\n",
    "        return None  # Key not found\n",
    "\n",
    "    def delete(self, key):\n",
    "        \"\"\"Deletes a key-value pair by key.\"\"\"\n",
    "        node = self.tree.search_key(key)\n",
    "        if node:\n",
    "            self.tree.RB_delete(key)"
   ]
  },
  {
   "cell_type": "code",
   "execution_count": null,
   "metadata": {},
   "outputs": [
    {
     "name": "stdout",
     "output_type": "stream",
     "text": [
      "1\n",
      "2\n",
      "None\n"
     ]
    }
   ],
   "source": [
    "rb_dict = RBDictionary()\n",
    "\n",
    "\n",
    "rb_dict.insert(\"apple\", 1)\n",
    "rb_dict.insert(\"banana\", 2)\n",
    "\n",
    "\n",
    "print(rb_dict.get(\"apple\")) \n",
    "print(rb_dict.get(\"banana\")) \n",
    "\n",
    "rb_dict.delete(\"apple\")\n",
    "print(rb_dict.get(\"apple\"))  \n"
   ]
  }
 ],
 "metadata": {
  "kernelspec": {
   "display_name": "Python 3",
   "language": "python",
   "name": "python3"
  },
  "language_info": {
   "codemirror_mode": {
    "name": "ipython",
    "version": 3
   },
   "file_extension": ".py",
   "mimetype": "text/x-python",
   "name": "python",
   "nbconvert_exporter": "python",
   "pygments_lexer": "ipython3",
   "version": "undefined.undefined.undefined"
  }
 },
 "nbformat": 4,
 "nbformat_minor": 2
}
